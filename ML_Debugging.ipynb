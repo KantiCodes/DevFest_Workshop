{
 "cells": [
  {
   "cell_type": "markdown",
   "metadata": {},
   "source": [
    "**In this notebook we will take a look at debugging/optimizing machine learning model**  \n",
    "\n",
    "**If you don't see it live you can ignore the rest of this cell :)**\n",
    "\n",
    "**Quick question**\n",
    "- Do you want me to focus mostly on the debugging itself and how it's done?\n",
    "- Do you want me to carry the workshop out as if you were just introduced to machine learning?\n",
    "\n",
    "**Quick announcement**\n",
    "- If at any point something I say does not make sense, please let me know we have plenty of time :)"
   ]
  },
  {
   "cell_type": "markdown",
   "metadata": {},
   "source": [
    "# Agenda for today\n",
    "- 1. Intro to me, the notebook and briefly about the Debugging\n",
    "- 2. High Level Debugging example TextBlob\n",
    "- 3. Test set/ Train set separation why is it important?\n",
    "- 4. Overfitting/Underfitting example and explanantion using logistic regression\n",
    "- 5. H\n",
    "- 6"
   ]
  },
  {
   "cell_type": "markdown",
   "metadata": {},
   "source": [
    "# 1. Intro to me, the notebook and briefly about the Debugging|"
   ]
  },
  {
   "cell_type": "markdown",
   "metadata": {},
   "source": [
    "**Me:**\n",
    "- polish\n",
    "- 21\n",
    "- Student software Developer Steinwurf\n",
    "- Likes Data Structures and Algorithms problem solving\n",
    "- Likes Taekwondo (if you are in Aalborg come join our club I lead classes on Wednesday 18.30 - 20:00)\n",
    "- In Denmark for 3 years\n",
    "\n",
    "**Machine learning debugging (In my own words)**\n",
    "- Set of various acitivities/procedures that allows you to get insight of the ML models\n",
    "- understand with what kind of data your model struggles with\n",
    "- inspect the training process of your model\n",
    "\n",
    "**Question: What can it help with?**\n",
    "\n",
    "- _To understand why and with what kind of data the machine learning model is behaving poorly_\n",
    "- _To improve the results of machine learning model_\n",
    "- _To decrease the resources(time, computational power) needed for training the ML models_\n",
    "- _belief (that is mostly correct) is that having more data will always solve your problems but sometimes you can achieve the same by understanding of what's going on inside your model_"
   ]
  },
  {
   "cell_type": "markdown",
   "metadata": {},
   "source": [
    "# 2. High Level Debugging example TextBlob"
   ]
  },
  {
   "cell_type": "markdown",
   "metadata": {},
   "source": [
    "**Speaking in terms of regular code, let's assume you have a method that has some desired functionality. You start using that method but you soon realise it does not work - what do you do?. Well you debug it :)**\n",
    "\n",
    "**So how about, where you are a rookie and you use ready libraries, tools, api whatsover without really knowing the inside implementation?**\n",
    "- _There are tons of already implemented libraries ready to use, perhaps you could use one of those instead of writting your own tool. But this libraries might be incomplete, too generic or simply bad. Knowing how to debug this tools might help you to fix it_  \n",
    "\n",
    "**Let us say you have an online shop and you want to promote it on facebook/twitter. After making a post on FB/Twitter you want to fish for negative comments, then your representative will contact unsatisfied customers and find out what is the issue** \n",
    "\n",
    "**So let's do that using open source tool created for precisely that purpose [TextBlob](https://textblob.readthedocs.io/en/dev/)**"
   ]
  },
  {
   "cell_type": "markdown",
   "metadata": {},
   "source": [
    "* First: let's import textblob  \n",
    "* Second: run an example and see what we get"
   ]
  },
  {
   "cell_type": "code",
   "execution_count": 1,
   "metadata": {
    "scrolled": true
   },
   "outputs": [
    {
     "name": "stdout",
     "output_type": "stream",
     "text": [
      "Sentiment(polarity=-0.8, subjectivity=0.9)\n",
      "Sentiment(polarity=0.7, subjectivity=0.6000000000000001)\n"
     ]
    }
   ],
   "source": [
    "from textblob import TextBlob  # import the library\n",
    "\n",
    "print (TextBlob('I hate this thing').sentiment)  # calculate the sentiment of the string and print the value\n",
    "print (TextBlob('I think this is a good tool for carpenters').sentiment)  # calculate the sentiment of the string and print the value"
   ]
  },
  {
   "cell_type": "markdown",
   "metadata": {},
   "source": [
    "**Textblob().sentiment returns two things**\n",
    "- first value it returns is the polarity of the comment: _-1_ is a negative comment and _1_ it is a positive comment\n",
    "- second value is the subjectivity of the comment"
   ]
  },
  {
   "cell_type": "markdown",
   "metadata": {},
   "source": [
    "**Okay, as we know what textblob does we can then create a list of comments and our function**"
   ]
  },
  {
   "cell_type": "code",
   "execution_count": 2,
   "metadata": {},
   "outputs": [],
   "source": [
    "comments_friday = ['I hate this product', \n",
    "                   'I enjoyed this movie',\n",
    "                   'Look at my profile please [link]',\n",
    "                   'I wish I hadn`t buy it',\n",
    "                   'This sucks I want my money back']\n",
    "\n",
    "comments_monday = ['I think this product is awesome',\n",
    "                   'That is the best shirt I ever had',\n",
    "                   'I want moreeee!',\n",
    "                   'that`s so cool',\n",
    "                   'Just :/']"
   ]
  },
  {
   "cell_type": "markdown",
   "metadata": {},
   "source": [
    "**Below is a simple function that will take a list of comments and return same size list of values from <-1, 1> describing the sentiment of the comment**"
   ]
  },
  {
   "cell_type": "code",
   "execution_count": 3,
   "metadata": {},
   "outputs": [],
   "source": [
    "def caluclate_sentiment(comments):\n",
    "    \"\"\"\n",
    "    Function returns a sentiment for given list of comments\n",
    "    \n",
    "    :param comments: list of comments to be evaluated\n",
    "    :return: list of sentiment values\n",
    "    \"\"\"\n",
    "    \n",
    "    sentiments = []  # create an empty list\n",
    "    \n",
    "    for comment in comments:  # iterate over the comments\n",
    "        sentiment_value = TextBlob(comment).sentiment[0]  # Get sentiment of current comment\n",
    "        sentiments.append(sentiment_value)  # append to the list\n",
    "        \n",
    "    return sentiments       "
   ]
  },
  {
   "cell_type": "markdown",
   "metadata": {},
   "source": [
    "**Let's use our method and see how it calculated the sentiment**"
   ]
  },
  {
   "cell_type": "markdown",
   "metadata": {},
   "source": [
    "### Sentiments for Friday"
   ]
  },
  {
   "cell_type": "code",
   "execution_count": 4,
   "metadata": {
    "scrolled": false
   },
   "outputs": [
    {
     "name": "stdout",
     "output_type": "stream",
     "text": [
      "I hate this product || sentiment`s polarity is: -0.8\n",
      "I enjoyed this movie || sentiment`s polarity is: 0.5\n",
      "Look at my profile please [link] || sentiment`s polarity is: 0.0\n",
      "I wish I hadn`t buy it || sentiment`s polarity is: 0.0\n",
      "This sucks I want my money back || sentiment`s polarity is: -0.15\n"
     ]
    }
   ],
   "source": [
    "sentiments_friday = caluclate_sentiment(comments_friday)\n",
    "\n",
    "for sentence, sentiment in zip(comments_friday, sentiments_friday):  # print sentence and it;\n",
    "    print (f'{sentence} || sentiment`s polarity is: {sentiment}')"
   ]
  },
  {
   "cell_type": "markdown",
   "metadata": {},
   "source": [
    "### Sentiments for Monday"
   ]
  },
  {
   "cell_type": "code",
   "execution_count": 5,
   "metadata": {},
   "outputs": [
    {
     "name": "stdout",
     "output_type": "stream",
     "text": [
      "I think this product is awesome || sentiment`s polarity is: 1.0\n",
      "That is the best shirt I ever had || sentiment`s polarity is: 1.0\n",
      "I want moreeee! || sentiment`s polarity is: 0.0\n",
      "that`s so cool || sentiment`s polarity is: 0.35\n",
      "Just :/ || sentiment`s polarity is: -0.25\n"
     ]
    }
   ],
   "source": [
    "sentiments_monday = caluclate_sentiment(comments_monday)\n",
    "\n",
    "for sentence, sentiment in zip(comments_monday, sentiments_monday):  # print sentence and its sentiment\n",
    "    print (f'{sentence} || sentiment`s polarity is: {sentiment}')"
   ]
  },
  {
   "cell_type": "markdown",
   "metadata": {},
   "source": [
    "**We can see that the textblob works properly for most of the examples**  \n",
    "**Unfortunately there are some that it failed to categorize:**\n",
    "- I want moreeee! || sentiment's polarity is: 0.0\n",
    "- I wish I haven't bought it || sentiment's is: 0.0"
   ]
  },
  {
   "cell_type": "markdown",
   "metadata": {},
   "source": [
    "**Can you think of a way how we could perhaps fix \"I want moreeee!\" comment?**\n",
    "<!--print (TextBlob('I want more!').sentiment) -->"
   ]
  },
  {
   "cell_type": "code",
   "execution_count": 6,
   "metadata": {},
   "outputs": [
    {
     "data": {
      "text/plain": [
       "Sentiment(polarity=0.0, subjectivity=0.0)"
      ]
     },
     "execution_count": 6,
     "metadata": {},
     "output_type": "execute_result"
    }
   ],
   "source": [
    "TextBlob('I want moreeee').sentiment\n"
   ]
  },
  {
   "cell_type": "markdown",
   "metadata": {},
   "source": [
    "**How about the I wish \"I haven't bought it\" ?**\n",
    "<!-- TextBlob('I wish did not buy it').sentiment -->"
   ]
  },
  {
   "cell_type": "code",
   "execution_count": 7,
   "metadata": {
    "scrolled": false
   },
   "outputs": [
    {
     "data": {
      "text/plain": [
       "Sentiment(polarity=0.0, subjectivity=0.0)"
      ]
     },
     "execution_count": 7,
     "metadata": {},
     "output_type": "execute_result"
    }
   ],
   "source": [
    "TextBlob(\"I wish hadn't buy it\").sentiment"
   ]
  },
  {
   "cell_type": "markdown",
   "metadata": {},
   "source": [
    "### Let's take a closer look at different adjectives"
   ]
  },
  {
   "cell_type": "code",
   "execution_count": 8,
   "metadata": {
    "scrolled": true
   },
   "outputs": [
    {
     "name": "stdout",
     "output_type": "stream",
     "text": [
      "Sentiment(polarity=-0.6999999999999998, subjectivity=0.6666666666666666)\n",
      "\n",
      "Sentiment(polarity=-1.0, subjectivity=1.0)\n",
      "\n",
      "Sentiment(polarity=0.7, subjectivity=0.6000000000000001)\n",
      "\n",
      "Sentiment(polarity=1.0, subjectivity=0.3)\n"
     ]
    }
   ],
   "source": [
    "print(TextBlob('bad desk').sentiment)\n",
    "print()\n",
    "print(TextBlob('worst desk').sentiment)\n",
    "print()\n",
    "print(TextBlob('good player').sentiment)\n",
    "print()\n",
    "print(TextBlob('best player').sentiment)"
   ]
  },
  {
   "cell_type": "markdown",
   "metadata": {},
   "source": [
    "### Spoiler alert:\n",
    "- Text blob is a simple tool involving of nothing more than grammar analysis\n",
    "- It is basically trying to give the best anwser using the analysis of the adjectives*\n",
    "- State of the art libraries use neural networks combined using lexical analysis\n",
    "\n",
    "*Some examples of what I mean by analysis of adjectives"
   ]
  },
  {
   "cell_type": "code",
   "execution_count": 9,
   "metadata": {},
   "outputs": [
    {
     "name": "stdout",
     "output_type": "stream",
     "text": [
      "Sentiment(polarity=1.0, subjectivity=0.3)\n",
      "\n",
      "Sentiment(polarity=0.7, subjectivity=0.6000000000000001)\n"
     ]
    }
   ],
   "source": [
    "print(TextBlob('This is not the best book').sentiment)\n",
    "print()\n",
    "print(TextBlob('I don`t think it was good').sentiment)"
   ]
  },
  {
   "cell_type": "markdown",
   "metadata": {},
   "source": [
    "### That is not right is it?"
   ]
  },
  {
   "cell_type": "markdown",
   "metadata": {},
   "source": [
    "**Congratulations we just did some manual debugging of TextBlob model**  \n",
    "\n",
    "**We found out that:**\n",
    "- our model has problems with typos\n",
    "- our model has problem with understanding the negation of the sentece\n",
    "\n",
    "\n",
    "**Even if you are not a ML engineer and you have limited NLP(natural language processing) skills you could try to:**\n",
    "- write a function that would spell check all of the strings in the comments and attempt fix it (TextBlob has such a method)\n",
    "- try to play around with negation in the sentences for most common: \"Do not\", \"have not\"  to move it towards the adjective\n",
    "\n"
   ]
  },
  {
   "cell_type": "markdown",
   "metadata": {},
   "source": [
    "# 3. Test set/ Train set separation why is it important?\n"
   ]
  },
  {
   "cell_type": "markdown",
   "metadata": {},
   "source": [
    "**When developing machine learning algorithms we should train the using some part of data and then use another(typically smaller) part of that data to test it**\n",
    "\n",
    "**Question: Why?**\n",
    "- Most of the machine learning algorithms work more or less like this: Take some data, try to build a model that has the lowest error for this data, return this model\n",
    "\n",
    "**Now if we check if this model gives good predictions for our data training it on entire data set, it is probably going to do a good job**\n",
    "- But does it really make sense to validate our model on the data we used to train when its job was to minimize the error for that particular set of data?\n",
    "\n",
    "**What we should do instead when testing our model is to test it on previously unknown data, this actually gives us good representation of how good the model is (as machine learning is generalny about predicting stuff)**\n",
    "\n",
    "**Use case: let's say for some strange reason you want to predict people's height using their weight, crazy idea I know :D**"
   ]
  },
  {
   "cell_type": "code",
   "execution_count": 10,
   "metadata": {},
   "outputs": [
    {
     "name": "stdout",
     "output_type": "stream",
     "text": [
      "The score of this model is 1.0\n",
      " the predicted heights are: \n",
      " [[160.]\n",
      " [165.]\n",
      " [170.]]\n"
     ]
    }
   ],
   "source": [
    "import math\n",
    "from sklearn.linear_model import LinearRegression  # import logistic regression\n",
    "from sklearn.metrics import mean_squared_error  # tool for calculating the error\n",
    "import numpy as np\n",
    "\n",
    "weight = np.array([60,65,70]).reshape(-1,1)  # data about 3 peoples' height\n",
    "height = np.array([160,165,170]).reshape(-1,1)  # data about 3 peoples' height\n",
    "\n",
    "model = LinearRegression().fit(weight, height)\n",
    "predicted_height = model.predict(weight)\n",
    "print(f'The score of this model is {model.score(weight,height)}')\n",
    "print (f' the predicted heights are: \\n {predicted_height}')"
   ]
  },
  {
   "cell_type": "markdown",
   "metadata": {},
   "source": [
    "**The value score can range from -inf to 1.  \n",
    "the value for our model is 1, it means it made no mistakes after learning**  \n",
    "\n",
    "If we stopped here, we would run to our imaginary boss and tell him that we made a perfect weight/height conversion and that it is 100% accurate\n",
    "\n",
    "Well our model seems to be working perfectly, but what do you think will happen if we take for instance weight of my tall friend and try to predict height? (80kg and 192cm)**"
   ]
  },
  {
   "cell_type": "code",
   "execution_count": 11,
   "metadata": {},
   "outputs": [
    {
     "data": {
      "text/plain": [
       "array([[180.]])"
      ]
     },
     "execution_count": 11,
     "metadata": {},
     "output_type": "execute_result"
    }
   ],
   "source": [
    "some_skinny_guy = np.array([80]).reshape(-1,1)\n",
    "model.predict(some_skinny_guy)"
   ]
  },
  {
   "cell_type": "markdown",
   "metadata": {},
   "source": [
    "**Well I'm not really satisfied with this prediction, 12cm error in terms of height is quite a lot don't you think?**\n",
    "\n",
    "**Now while I understand this example is quite abstract cause the height and weight might not be directly correlated, this gives us the idea of why we shouldn't use the same data for trainning and testing**\n",
    "\n",
    "**So let's get some real data from my friends and recalculated the model's score**"
   ]
  },
  {
   "cell_type": "code",
   "execution_count": 12,
   "metadata": {},
   "outputs": [
    {
     "name": "stdout",
     "output_type": "stream",
     "text": [
      "The new score of this model is 0.38208032955715754\n"
     ]
    }
   ],
   "source": [
    "new_people_weight=np.array([65,80,84,92]).reshape(-1,1)\n",
    "new_people_height=np.array([163,179,183,180]).reshape(-1,1)\n",
    "print(f'The new score of this model is {model.score(new_people_weight,new_people_height)}')\n"
   ]
  },
  {
   "cell_type": "markdown",
   "metadata": {},
   "source": [
    "**As mentioned previously typically we are able to achieve good scores for training data, but it is the unknow - test data that actually realistically validates our machine learning model**\n",
    "\n",
    "**And as we found out, our model was not so perfect in the end**"
   ]
  },
  {
   "cell_type": "markdown",
   "metadata": {},
   "source": [
    "\n",
    "\n"
   ]
  },
  {
   "cell_type": "markdown",
   "metadata": {},
   "source": [
    "### Linear regression intro"
   ]
  },
  {
   "cell_type": "code",
   "execution_count": 67,
   "metadata": {
    "scrolled": false
   },
   "outputs": [
    {
     "data": {
      "image/png": "[encoded data removed]",
      "text/plain": [
       "<Figure size 432x288 with 1 Axes>"
      ]
     },
     "metadata": {
      "needs_background": "light"
     },
     "output_type": "display_data"
    }
   ],
   "source": [
    "from sklearn.linear_model import LinearRegression  # import logistic regression\n",
    "from sklearn.metrics import mean_squared_error  # tool for calculating the error\n",
    "from sklearn.model_selection import train_test_split\n",
    "import math\n",
    "\n",
    "\n",
    "\n",
    "np.random.seed(2)\n",
    "\n",
    "X = np.arange(0,10*5, 2)\n",
    "y_generic = 2.*X\n",
    "y = y_generic + np.random.normal(2, 4, len(y_generic))  # real life scenario data\n",
    "X = X.reshape(-1,1)\n",
    "\n",
    "plt.plot(X,y_generic, label='The generalised function f(x) = 2x')\n",
    "plt.scatter(X,y, label ='The data actual data consisting noise' , c ='y')\n",
    "plt.title('Deeper look at the data')\n",
    "plt.legend()\n",
    "plt.show()"
   ]
  },
  {
   "cell_type": "markdown",
   "metadata": {},
   "source": [
    "**Noise of the data is the level to which it is random**\n",
    "\n",
    "* **The yellow is the actual data we have**  \n",
    "* **The blue of is the function best generalising our data**  \n",
    "* **Why are they different?**\n",
    "- to imitate the real life scenario where our data consist of some randomness.\n",
    "    \n",
    "**Example:**  \n",
    "When buying a house worth 300k dollars you paid for it 302k cause you really liked the onwer.  \n",
    "Let us say that I am buying a house worth 100k and I paid for it 97k.   \n",
    "Your +2k and mine -3k are the \"noise\" of the data. No matter the noice the houses where worth respectively 300k and 100k, therefore it is desired that the function describing the house worth should still output 300k and 100k which were the actual prices of the houses not influenced by noise"
   ]
  },
  {
   "cell_type": "markdown",
   "metadata": {},
   "source": [
    "### Linear regression with our data set\n",
    "**Linear regression is a ML model that tries to find a line such that the error (sum of the distances between all samples and the _line_) is the smallest.**"
   ]
  },
  {
   "cell_type": "code",
   "execution_count": 105,
   "metadata": {
    "scrolled": false
   },
   "outputs": [
    {
     "data": {
      "text/plain": [
       "<matplotlib.legend.Legend at 0x2bbf1e3ffa0>"
      ]
     },
     "execution_count": 105,
     "metadata": {},
     "output_type": "execute_result"
    },
    {
     "data": {
      "image/png": "[encoded data removed]",
      "text/plain": [
       "<Figure size 432x288 with 1 Axes>"
      ]
     },
     "metadata": {
      "needs_background": "light"
     },
     "output_type": "display_data"
    }
   ],
   "source": [
    "X_train, X_test, y_train, y_test = train_test_split(\n",
    "        X, y, test_size=0.2, random_state=42)  # Split the data into Train(80%) and Test set(20%)\n",
    "plt.scatter(X_train, y_train, label='train set', c='g')\n",
    "plt.scatter(X_test, y_test, label='test_set', c='b')\n",
    "plt.legend()"
   ]
  },
  {
   "cell_type": "code",
   "execution_count": 106,
   "metadata": {},
   "outputs": [
    {
     "data": {
      "text/plain": [
       "<matplotlib.legend.Legend at 0x2bbf1f26460>"
      ]
     },
     "execution_count": 106,
     "metadata": {},
     "output_type": "execute_result"
    },
    {
     "data": {
      "image/png": "[encoded data removed]",
      "text/plain": [
       "<Figure size 576x576 with 4 Axes>"
      ]
     },
     "metadata": {
      "needs_background": "light"
     },
     "output_type": "display_data"
    }
   ],
   "source": [
    "overfitting_model = LinearRegression().fit(X_train,y_train)  # create the model and train it using train data\n",
    "\n",
    "y_pred = overfitting_model.predict(X_test)  # We have our model and then we can use it to predict something\n",
    "\n",
    "b  = overfitting_model.intercept_  # get the intercept (base value of the function)\n",
    "w = overfitting_model.coef_.T  # get the coeficient of the function\n",
    "\n",
    "#Anything below just ignore, it's plotting\n",
    "\n",
    "fig, axs = plt.subplots(2, 2)\n",
    "fig.set_figheight(8)\n",
    "fig.set_figwidth(8)\n",
    "axs[0,0].plot(X_train,(b+w*X_train), label='predicted function', c='r')  # plot the predicted function\n",
    "axs[0,0].plot(X,y_generic, label='ideal generalised function')\n",
    "axs[0,0].set_title('Test set')\n",
    "axs[0,0].legend()\n",
    "\n",
    "axs[1,0].scatter(X_test,y_test, label='train set data', c='b')\n",
    "axs[1,0].plot(X_train,(b+w*X_train), label='predicted function', c='r')\n",
    "axs[1,0].set_title('Test set')\n",
    "axs[1,0].legend()\n",
    "\n",
    "axs[0,1].plot(X_train,(b+w*X_train), label='predicted function', c='r')  # plot the predicted function\n",
    "axs[0,1].plot(X,y_generic, label='ideal generalised function')\n",
    "axs[0,1].set_title('Train set')\n",
    "axs[0,1].legend()\n",
    "\n",
    "axs[1,1].scatter(X_train,y_train, label='train set data', c='g')\n",
    "axs[1,1].plot(X_train,(b+w*X_train), label='predicted function', c='r')\n",
    "axs[1,1].set_title('Train set')\n",
    "axs[1,1].legend()"
   ]
  },
  {
   "cell_type": "code",
   "execution_count": 104,
   "metadata": {},
   "outputs": [
    {
     "name": "stdout",
     "output_type": "stream",
     "text": [
      " f(x) =-0.3117477793259198 + 2.0451014719309524x\n",
      "The test set score of this model is 0.9722106973758871%\n",
      "test set mean error of this model is 5.135184749568037 per sample\n"
     ]
    }
   ],
   "source": [
    "print(f' f(x) ={b} + {w[0]}x')\n",
    "print(f'The test set score of this model is {overfitting_model.score(X_test,y_test)}%')\n",
    "print(f'test set mean error of this model is {math.sqrt(mean_squared_error(y_pred,y_test))} per sample')"
   ]
  },
  {
   "cell_type": "code",
   "execution_count": null,
   "metadata": {},
   "outputs": [],
   "source": [
    "b = overfitting_model.intercept_\n",
    "w1= overfitting_model.coef_.T\n",
    "plt.plot(x,(b+w1*x))"
   ]
  },
  {
   "attachments": {
    "image.png": {
     "image/png": "[encoded data removed]"
    }
   },
   "cell_type": "markdown",
   "metadata": {},
   "source": [
    "![image.png](attachment:image.png)"
   ]
  },
  {
   "cell_type": "code",
   "execution_count": null,
   "metadata": {
    "scrolled": true
   },
   "outputs": [],
   "source": [
    "import sklearn\n",
    "data, labels = sklearn.datasets.make_circles(n_samples=1000, \n",
    "                               shuffle=True, noise=0.1, random_state=None, factor=0.3)  # create some data in a circle\n",
    "x = data[:,0]\n",
    "y = data[:,1]\n",
    "plt.scatter(x,y, c=labels)\n",
    "plt.title(\"Distribution of Example data\")\n"
   ]
  },
  {
   "cell_type": "code",
   "execution_count": null,
   "metadata": {},
   "outputs": [],
   "source": [
    "bfrom sklearn.linear_model import LogisticRegression as LR\n",
    "\n",
    "\n",
    "data_square = np.square(data)\n",
    "combined_array = np.append(data, data_square, axis=1)\n",
    "# combined_array\n",
    "\n",
    "model = LR().fit(combined_array, labels)\n",
    "\n",
    "y_pred = model.predict(combined_array)\n"
   ]
  },
  {
   "cell_type": "code",
   "execution_count": null,
   "metadata": {},
   "outputs": [],
   "source": []
  },
  {
   "cell_type": "code",
   "execution_count": null,
   "metadata": {},
   "outputs": [],
   "source": [
    "from sklearn.linear_model import LogisticRegression as LR\n",
    "\n",
    "\n",
    "data_square = np.square(data)\n",
    "combined_array = np.append(data, data_square, axis=1)\n",
    "# combined_array\n",
    "\n",
    "model = LR().fit(combined_array, labels)\n",
    "\n",
    "y_pred = model.predict(combined_array)\n"
   ]
  },
  {
   "cell_type": "markdown",
   "metadata": {},
   "source": [
    "# 3. Overfitting/Underfitting\n",
    "![](https://gblobscdn.gitbook.com/assets%2F-LvBP1svpACTB1R1x_U4%2F-LvNWUoWieQqaGmU_gl9%2F-LvNoby-llz4QzAK15nL%2Fimage.png?alt=media&token=41720ce9-bb66-4419-9bd8-640abf1fc415)\n",
    "Source: Sagar Sharma / Towards Data Science"
   ]
  },
  {
   "cell_type": "markdown",
   "metadata": {},
   "source": [
    "**Noise of the data is the level to which it i random**\n",
    "\n",
    "**Overfitting is when the machine learning model learn the randomness of the data instead of it's real function**\n",
    "\n",
    "**Optimum is when machine learning model succced to find the function, that almost represent the real data distrubution**\n",
    "\n",
    "**Underfitting is when machine learning model uses too general function which leads to poor model**"
   ]
  }
 ],
 "metadata": {
  "kernelspec": {
   "display_name": "Python 3",
   "language": "python",
   "name": "python3"
  },
  "language_info": {
   "codemirror_mode": {
    "name": "ipython",
    "version": 3
   },
   "file_extension": ".py",
   "mimetype": "text/x-python",
   "name": "python",
   "nbconvert_exporter": "python",
   "pygments_lexer": "ipython3",
   "version": "3.8.5"
  }
 },
 "nbformat": 4,
 "nbformat_minor": 4
}
